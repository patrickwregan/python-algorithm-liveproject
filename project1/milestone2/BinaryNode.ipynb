{
 "cells": [
  {
   "cell_type": "code",
   "execution_count": 2,
   "id": "122875f0-989e-4f26-9a20-3654315b2890",
   "metadata": {},
   "outputs": [
    {
     "name": "stdout",
     "output_type": "stream",
     "text": [
      "Root:\n",
      "  A:\n",
      "    C:\n",
      "    D:\n",
      "  B:\n",
      "    None\n",
      "    E:\n",
      "      F:\n",
      "      None\n",
      "\n"
     ]
    }
   ],
   "source": [
    "class BinaryNode:\n",
    "\n",
    "   indent = 2\n",
    "   def __init__(self, value):\n",
    "       self.value = value\n",
    "       self.left_child = None\n",
    "       self.right_child = None\n",
    "\n",
    "   def add_left(self, value):\n",
    "       self.left_child = BinaryNode(value)\n",
    "\n",
    "   def add_right(self, value ):\n",
    "       self.right_child = BinaryNode(value)\n",
    "\n",
    "   def __str__(self, level=0):\n",
    "       # this contains the actual value of the node\n",
    "       result = f'{\" \" * (level * BinaryNode.indent)}' + f'{self.value}:\\n'\n",
    "       if (self.left_child != None) or (self.right_child != None):\n",
    "           if self.left_child == None:\n",
    "               result += f\"{' ' * ((level + 1) * BinaryNode.indent)}None\\n\"\n",
    "           else:\n",
    "               result += self.left_child.__str__(level + 1)\n",
    "           if self.right_child == None:\n",
    "               result += f\"{' ' * ((level + 1) * BinaryNode.indent)}None\\n\"\n",
    "           else:\n",
    "               result += self.right_child.__str__(level + 1)\n",
    "       return result\n",
    "\n",
    "root = BinaryNode(\"Root\")\n",
    "root.add_left(\"A\")\n",
    "root.add_right(\"B\")\n",
    "A = root.left_child\n",
    "A.add_left(\"C\")\n",
    "A.add_right(\"D\")\n",
    "C = A.left_child\n",
    "D = A.right_child\n",
    "B = root.right_child\n",
    "B.add_right(\"E\")\n",
    "E = B.right_child\n",
    "E.add_left(\"F\")\n",
    "F = E.left_child\n",
    "print(root)\n"
   ]
  },
  {
   "cell_type": "code",
   "execution_count": null,
   "id": "fe60585f-f4b4-458c-ba57-56c9583f092e",
   "metadata": {},
   "outputs": [],
   "source": []
  }
 ],
 "metadata": {
  "kernelspec": {
   "display_name": "Python 3 (ipykernel)",
   "language": "python",
   "name": "python3"
  },
  "language_info": {
   "codemirror_mode": {
    "name": "ipython",
    "version": 3
   },
   "file_extension": ".py",
   "mimetype": "text/x-python",
   "name": "python",
   "nbconvert_exporter": "python",
   "pygments_lexer": "ipython3",
   "version": "3.12.1"
  }
 },
 "nbformat": 4,
 "nbformat_minor": 5
}
